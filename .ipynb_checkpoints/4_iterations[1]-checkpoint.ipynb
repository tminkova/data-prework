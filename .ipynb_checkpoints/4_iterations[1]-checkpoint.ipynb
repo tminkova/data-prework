{
 "cells": [
  {
   "cell_type": "markdown",
   "metadata": {},
   "source": [
    "## Iterations "
   ]
  },
  {
   "cell_type": "markdown",
   "metadata": {},
   "source": [
    "Iterations are used to execute a block of code repeatedly. Python provides **FOR LOOPS** and **WHILE LOOPS** to \n",
    "perform iterations.   \n",
    "In this lesson we will talk about **FOR LOOP** and also briefly about **WHILE LOOPS**"
   ]
  },
  {
   "cell_type": "markdown",
   "metadata": {},
   "source": [
    "**This is the general syntax of the for loop in python:**"
   ]
  },
  {
   "cell_type": "raw",
   "metadata": {},
   "source": [
    "for <variable> in <iterable>:\n",
    "    <statement>\n",
    "    <statement>\n",
    "    <statement>"
   ]
  },
  {
   "cell_type": "code",
   "execution_count": 1,
   "metadata": {},
   "outputs": [
    {
     "name": "stdout",
     "output_type": "stream",
     "text": [
      "0\n",
      "hello\n",
      "1\n",
      "hello\n",
      "2\n",
      "hello\n",
      "3\n",
      "hello\n",
      "4\n",
      "hello\n",
      "5\n",
      "hello\n",
      "6\n",
      "hello\n",
      "7\n",
      "hello\n",
      "8\n",
      "hello\n",
      "9\n",
      "hello\n"
     ]
    }
   ],
   "source": [
    "# We are using the range function to execute the block of statments (here only a single print command) 10 times\n",
    "# Just like the IF ELIF ELSE conditional statements, all the lines of code with the same indentation are executed\n",
    "\n",
    "for i in range(10):    # Note: here we are using the membership operator \"IN\" \n",
    "    print(i)\n",
    "    print('hello')\n",
    "    # dummy line 1  # Lines of code with the same indentation. \n",
    "    # dummy line 2\n",
    "    # .\n",
    "    #..\n",
    "    # ..."
   ]
  },
  {
   "cell_type": "markdown",
   "metadata": {},
   "source": [
    "**Here we will see how the value of 'i' changes when we use the range() function.**  \n",
    "By default, the values are generated starting with 0, and until one less than the value mentioned in the range() function.  \n",
    "In this case, from 0 to 9"
   ]
  },
  {
   "cell_type": "code",
   "execution_count": 2,
   "metadata": {},
   "outputs": [
    {
     "name": "stdout",
     "output_type": "stream",
     "text": [
      "0\n",
      "1\n",
      "2\n",
      "3\n",
      "4\n",
      "5\n",
      "6\n",
      "7\n",
      "8\n",
      "9\n"
     ]
    }
   ],
   "source": [
    "# 'i' is the variable here. It takes on values from the range function from 0 to 9, iteratively\n",
    "for i in range(10):  \n",
    "    print(i)"
   ]
  },
  {
   "cell_type": "markdown",
   "metadata": {},
   "source": [
    "**In the next example we will use conditional statement in the for loop to print only the even numbers**"
   ]
  },
  {
   "cell_type": "code",
   "execution_count": 3,
   "metadata": {},
   "outputs": [
    {
     "name": "stdout",
     "output_type": "stream",
     "text": [
      "0\n",
      "2\n",
      "4\n",
      "6\n",
      "8\n"
     ]
    }
   ],
   "source": [
    "for i in range(10):\n",
    "    if i%2==0:\n",
    "        print(i)"
   ]
  },
  {
   "cell_type": "markdown",
   "metadata": {},
   "source": [
    "Pay attention to the flow of the code and the indentation. IF condition is executed 10 times but 'i' is only \n",
    "printed when the condition is met because it is contained inside the IF statement "
   ]
  },
  {
   "cell_type": "markdown",
   "metadata": {},
   "source": [
    "When we used the range function earlier, we mentioned that the values are generated starting from 0.   \n",
    "However range function can also be used in a couple of other ways. Observe the outputs in the following codes."
   ]
  },
  {
   "cell_type": "code",
   "execution_count": 4,
   "metadata": {},
   "outputs": [
    {
     "name": "stdout",
     "output_type": "stream",
     "text": [
      "3\n",
      "4\n",
      "5\n",
      "6\n",
      "7\n",
      "8\n",
      "9\n"
     ]
    }
   ],
   "source": [
    "for i in range(3, 10):  # In this case, the iteration starts on 3 until 9\n",
    "    print(i)"
   ]
  },
  {
   "cell_type": "code",
   "execution_count": 5,
   "metadata": {},
   "outputs": [
    {
     "name": "stdout",
     "output_type": "stream",
     "text": [
      "0\n",
      "2\n",
      "4\n",
      "6\n",
      "8\n"
     ]
    }
   ],
   "source": [
    "for i in range(0, 10, 2):  # In this case, the iteration starts on 0 until 9 in steps of 2 \n",
    "    print(i)"
   ]
  },
  {
   "cell_type": "markdown",
   "metadata": {},
   "source": [
    "**In this example we will increment the value of a variable by a constant at each iteration.  \n",
    "Then we will print the value of 'a' at each iteration and the final value of 'a' after the for loop ends.**"
   ]
  },
  {
   "cell_type": "code",
   "execution_count": 1,
   "metadata": {},
   "outputs": [
    {
     "name": "stdout",
     "output_type": "stream",
     "text": [
      "Value of a at step 0 is 5\n",
      "Value of a at step 1 is 10\n",
      "Value of a at step 2 is 15\n",
      "Value of a at step 3 is 20\n",
      "Value of a at step 4 is 25\n",
      "Value of a at step 5 is 30\n",
      "Value of a at step 6 is 35\n",
      "Value of a at step 7 is 40\n",
      "Value of a at step 8 is 45\n",
      "Value of a at step 9 is 50\n",
      "This is the final value of a 50\n"
     ]
    }
   ],
   "source": [
    "a = 0\n",
    "constant = 5\n",
    "for i in range(10):\n",
    "    a = a + constant\n",
    "    print(\"Value of a at step\", i, \"is\", a)\n",
    "print(\"This is the final value of a\", a)"
   ]
  },
  {
   "cell_type": "markdown",
   "metadata": {},
   "source": [
    "-----------------------------"
   ]
  },
  {
   "cell_type": "markdown",
   "metadata": {},
   "source": [
    "### Exercise - Simple Iterations "
   ]
  },
  {
   "cell_type": "markdown",
   "metadata": {},
   "source": [
    "**1. Write a simple for loop to print integers from 10 to 30**"
   ]
  },
  {
   "cell_type": "code",
   "execution_count": 2,
   "metadata": {},
   "outputs": [
    {
     "name": "stdout",
     "output_type": "stream",
     "text": [
      "10\n",
      "11\n",
      "12\n",
      "13\n",
      "14\n",
      "15\n",
      "16\n",
      "17\n",
      "18\n",
      "19\n",
      "20\n",
      "21\n",
      "22\n",
      "23\n",
      "24\n",
      "25\n",
      "26\n",
      "27\n",
      "28\n",
      "29\n"
     ]
    }
   ],
   "source": [
    "for i in range(10, 30):\n",
    "    print(i)"
   ]
  },
  {
   "cell_type": "markdown",
   "metadata": {},
   "source": [
    "**2. Update the previous code to print all the numbers from 10 to 30 that are multples of 5**"
   ]
  },
  {
   "cell_type": "code",
   "execution_count": 3,
   "metadata": {},
   "outputs": [
    {
     "name": "stdout",
     "output_type": "stream",
     "text": [
      "10\n",
      "15\n",
      "20\n",
      "25\n"
     ]
    }
   ],
   "source": [
    "for i in range(10, 30):\n",
    " if i%5==0:\n",
    "        print(i)"
   ]
  },
  {
   "cell_type": "markdown",
   "metadata": {},
   "source": [
    "**3. Write a code to print this pattern. Modify the print statement in the dummy code provided**"
   ]
  },
  {
   "cell_type": "raw",
   "metadata": {},
   "source": [
    "*\n",
    "***\n",
    "*****"
   ]
  },
  {
   "cell_type": "markdown",
   "metadata": {},
   "source": [
    "#### Dummy Code\n",
    "```python\n",
    "for i in range(1, _, _):\n",
    "    print(___)\n",
    "```"
   ]
  },
  {
   "cell_type": "code",
   "execution_count": 4,
   "metadata": {},
   "outputs": [
    {
     "name": "stdout",
     "output_type": "stream",
     "text": [
      "1\n",
      "3\n",
      "5\n"
     ]
    }
   ],
   "source": [
    "for i in range(1, 6, 2):\n",
    "    print(i)"
   ]
  },
  {
   "cell_type": "markdown",
   "metadata": {},
   "source": [
    "**4. Update the previous code to print the following pattern**"
   ]
  },
  {
   "cell_type": "raw",
   "metadata": {},
   "source": [
    "  *\n",
    " ***\n",
    "*****"
   ]
  },
  {
   "cell_type": "code",
   "execution_count": 5,
   "metadata": {},
   "outputs": [],
   "source": [
    "#I don't understand the point"
   ]
  },
  {
   "cell_type": "markdown",
   "metadata": {},
   "source": [
    "**5. Take an positve integer input from the user. Find the factorial of that number. Use the factorial method \n",
    "provided in the math library to check if your result is correct or not. You can use the math library to \n",
    "calculate the factorial as follows:**"
   ]
  },
  {
   "cell_type": "code",
   "execution_count": 11,
   "metadata": {},
   "outputs": [
    {
     "ename": "NameError",
     "evalue": "name 'n' is not defined",
     "output_type": "error",
     "traceback": [
      "\u001b[0;31m---------------------------------------------------------------------------\u001b[0m",
      "\u001b[0;31mNameError\u001b[0m                                 Traceback (most recent call last)",
      "\u001b[0;32m<ipython-input-11-3b2f2dd99204>\u001b[0m in \u001b[0;36m<module>\u001b[0;34m\u001b[0m\n\u001b[1;32m      1\u001b[0m \u001b[0;32mimport\u001b[0m \u001b[0mmath\u001b[0m\u001b[0;34m\u001b[0m\u001b[0;34m\u001b[0m\u001b[0m\n\u001b[0;32m----> 2\u001b[0;31m \u001b[0mmath\u001b[0m\u001b[0;34m.\u001b[0m\u001b[0mfactorial\u001b[0m\u001b[0;34m(\u001b[0m\u001b[0mn\u001b[0m\u001b[0;34m)\u001b[0m \u001b[0;31m# n is the postive integer for which we want to calculate the factorial\u001b[0m\u001b[0;34m\u001b[0m\u001b[0;34m\u001b[0m\u001b[0m\n\u001b[0m",
      "\u001b[0;31mNameError\u001b[0m: name 'n' is not defined"
     ]
    }
   ],
   "source": [
    "import math\n",
    "math.factorial(n) # n is the postive integer for which we want to calculate the factorial "
   ]
  },
  {
   "cell_type": "raw",
   "metadata": {},
   "source": [
    "Note: Factorial is defined as \n",
    "    5 ! = 5*4*3*2*1    # \" ! \" is the mathematical notation for factorial\n",
    "    \n",
    "    n! = n*(n-1)*(n-2)*..........*1"
   ]
  },
  {
   "cell_type": "code",
   "execution_count": 6,
   "metadata": {},
   "outputs": [],
   "source": [
    "n=7"
   ]
  },
  {
   "cell_type": "code",
   "execution_count": 7,
   "metadata": {},
   "outputs": [
    {
     "data": {
      "text/plain": [
       "5040"
      ]
     },
     "execution_count": 7,
     "metadata": {},
     "output_type": "execute_result"
    }
   ],
   "source": [
    "import math\n",
    "math.factorial(n)"
   ]
  },
  {
   "cell_type": "markdown",
   "metadata": {},
   "source": [
    "-----------------------------"
   ]
  },
  {
   "cell_type": "markdown",
   "metadata": {},
   "source": [
    "**Iterating on Lists**  \n",
    "We talked about lists and dictionaries before. You can also iterate the items of a list or a dictionaries.   \n",
    "Here are some examples to show its implementation:"
   ]
  },
  {
   "cell_type": "markdown",
   "metadata": {},
   "source": [
    "Here we have a list with some integer values. We will use the operator 'IN' to iterate on the values  'item' variable takes the values from the list starting with index 0 until the length of the list"
   ]
  },
  {
   "cell_type": "code",
   "execution_count": 8,
   "metadata": {},
   "outputs": [
    {
     "name": "stdout",
     "output_type": "stream",
     "text": [
      "12\n",
      "43\n",
      "4\n",
      "1\n",
      "6\n",
      "343\n",
      "10\n"
     ]
    }
   ],
   "source": [
    "x = [12, 43, 4, 1, 6, 343, 10]\n",
    "for item in x:\n",
    "    print(item)"
   ]
  },
  {
   "cell_type": "markdown",
   "metadata": {},
   "source": [
    "We can iterate on the elements of the list, irrespective of the data type. An example is shown below:"
   ]
  },
  {
   "cell_type": "code",
   "execution_count": 9,
   "metadata": {},
   "outputs": [
    {
     "name": "stdout",
     "output_type": "stream",
     "text": [
      "apple\n",
      "orange\n",
      "banana\n",
      "grapes\n",
      "pineapple\n"
     ]
    }
   ],
   "source": [
    "fruits = ['apple', 'orange', 'banana', 'grapes', 'pineapple']\n",
    "for fruit in fruits:\n",
    "    print(fruit)"
   ]
  },
  {
   "cell_type": "markdown",
   "metadata": {},
   "source": [
    "Here is a simple example to add the elements of a list "
   ]
  },
  {
   "cell_type": "code",
   "execution_count": 10,
   "metadata": {},
   "outputs": [
    {
     "name": "stdout",
     "output_type": "stream",
     "text": [
      "Total at step 34 is 34\n",
      "Total at step 12 is 46\n",
      "Total at step 93 is 139\n",
      "Total at step 783 is 922\n",
      "Total at step 330 is 1252\n",
      "Total at step 896 is 2148\n",
      "Total at step 1 is 2149\n",
      "Total at step 55 is 2204\n",
      "\n",
      "\n",
      "The final total is  2204\n"
     ]
    }
   ],
   "source": [
    "num_list = [34, 12, 93, 783, 330, 896, 1, 55]\n",
    "total = 0\n",
    "\n",
    "for i in num_list:\n",
    "    total += i  # total = total + i\n",
    "    print(\"Total at step\",i, \"is\", total)\n",
    "print('\\n')  # to add an empty line (this is new line operator, it moves the cursor to the next line)\n",
    "print(\"The final total is \", total)"
   ]
  },
  {
   "cell_type": "markdown",
   "metadata": {},
   "source": [
    "**Add elements to an empty list**"
   ]
  },
  {
   "cell_type": "markdown",
   "metadata": {},
   "source": [
    "In the next example we will show how to define an empty list and add elements to it using iterations.  \n",
    "**Problem statement is:** we are given a list with some integer elements. We want to create a new list that will consists of the squares of each element of the list. "
   ]
  },
  {
   "cell_type": "code",
   "execution_count": 11,
   "metadata": {},
   "outputs": [
    {
     "name": "stdout",
     "output_type": "stream",
     "text": [
      "[1, 4, 9, 16, 25, 36, 49, 64, 81, 100]\n"
     ]
    }
   ],
   "source": [
    "data = [1, 2, 3, 4, 5, 6, 7, 8, 9, 10]\n",
    "new_list = [] # Defining an empty list \n",
    "\n",
    "for item in data:\n",
    "    new_list.append(item**2)  # at each iteration, square for the value is calculated and appended to the list \n",
    "print(new_list)"
   ]
  },
  {
   "cell_type": "markdown",
   "metadata": {},
   "source": [
    "-----------------------------"
   ]
  },
  {
   "cell_type": "markdown",
   "metadata": {},
   "source": [
    "### Exercise : Iterations on Lists"
   ]
  },
  {
   "cell_type": "markdown",
   "metadata": {},
   "source": [
    "**1. Given the list:**"
   ]
  },
  {
   "cell_type": "code",
   "execution_count": 12,
   "metadata": {},
   "outputs": [],
   "source": [
    "x = [12, 43, 4, 1, 6, 343, 10, 34, 12, 93, 783, 330, 896, 1, 55]"
   ]
  },
  {
   "cell_type": "markdown",
   "metadata": {},
   "source": [
    "- Write a code to find only those numbers that are divisible by 3.  \n",
    "- Write a code to find only those numbers in the list that end with the digit 3. Store the results in an empty list called \"output_list\".\n",
    "- Find the minimum in the list `x`. Conduct your own research to see if you can use any function directly.\n",
    "- Find the maximum in the list `x`. Conduct your own research to see if you can use any function directly."
   ]
  },
  {
   "cell_type": "code",
   "execution_count": 19,
   "metadata": {},
   "outputs": [
    {
     "name": "stdout",
     "output_type": "stream",
     "text": [
      "12\n",
      "6\n",
      "12\n",
      "93\n",
      "783\n",
      "330\n",
      "[43, 343, 34, 93, 783, 330]\n"
     ]
    },
    {
     "data": {
      "text/plain": [
       "896"
      ]
     },
     "execution_count": 19,
     "metadata": {},
     "output_type": "execute_result"
    }
   ],
   "source": [
    "for i in x:\n",
    "    if i%3==0:\n",
    "        print(i)\n",
    "        \n",
    "n = str('3')\n",
    "output_list = [i for i in x if n in str(i)]\n",
    "print (output_list) # the result is th numbers that include 3, don't know how to ask to end with 3\n",
    "\n",
    "min(x)\n",
    "\n",
    "max(x)"
   ]
  },
  {
   "cell_type": "markdown",
   "metadata": {},
   "source": [
    "-----------------------------"
   ]
  },
  {
   "cell_type": "markdown",
   "metadata": {},
   "source": [
    "**Iterating on Dictionaries**  \n",
    "Similarly we can also iterate on the elements of a dictionary. A simple example is shown below:"
   ]
  },
  {
   "cell_type": "code",
   "execution_count": null,
   "metadata": {},
   "outputs": [],
   "source": [
    "#example 1"
   ]
  },
  {
   "cell_type": "code",
   "execution_count": 20,
   "metadata": {},
   "outputs": [],
   "source": [
    "x = {'key1': 100 , 'key2': 200 , 'key3':300}"
   ]
  },
  {
   "cell_type": "code",
   "execution_count": 21,
   "metadata": {},
   "outputs": [
    {
     "name": "stdout",
     "output_type": "stream",
     "text": [
      "dict_keys(['key1', 'key2', 'key3'])\n"
     ]
    }
   ],
   "source": [
    "print(x.keys())"
   ]
  },
  {
   "cell_type": "code",
   "execution_count": 22,
   "metadata": {},
   "outputs": [
    {
     "name": "stdout",
     "output_type": "stream",
     "text": [
      "100\n",
      "200\n",
      "300\n"
     ]
    }
   ],
   "source": [
    "for key in x.keys():\n",
    "    print(x[key])"
   ]
  },
  {
   "cell_type": "code",
   "execution_count": 23,
   "metadata": {},
   "outputs": [],
   "source": [
    "#example 2"
   ]
  },
  {
   "cell_type": "code",
   "execution_count": 24,
   "metadata": {
    "scrolled": true
   },
   "outputs": [
    {
     "name": "stdout",
     "output_type": "stream",
     "text": [
      "For  key1  the value is:  100\n",
      "For  key2  the value is:  200\n",
      "For  key3  the value is:  300\n"
     ]
    }
   ],
   "source": [
    "for key, value in x.items():\n",
    "    print(\"For \", key, \" the value is: \", value)"
   ]
  },
  {
   "cell_type": "code",
   "execution_count": 25,
   "metadata": {},
   "outputs": [],
   "source": [
    "#example 3"
   ]
  },
  {
   "cell_type": "code",
   "execution_count": 26,
   "metadata": {},
   "outputs": [
    {
     "name": "stdout",
     "output_type": "stream",
     "text": [
      "Brian is 23 years old.\n",
      "Amy is 22 years old.\n",
      "Darlene is 47 years old.\n",
      "Ralph is 32 years old.\n",
      "Jordan is 28 years old.\n",
      "Stephanie is 35 years old.\n"
     ]
    }
   ],
   "source": [
    "ages = {'Brian':23, 'Amy':22, 'Darlene':47, 'Ralph':32, 'Jordan':28, 'Stephanie':35}\n",
    "\n",
    "for name, age in ages.items():\n",
    "    print(name, \"is\", age, \"years old.\")"
   ]
  },
  {
   "cell_type": "markdown",
   "metadata": {},
   "source": [
    "### Exercise: Iterations on Dictionaries"
   ]
  },
  {
   "cell_type": "markdown",
   "metadata": {},
   "source": [
    "**1. Given this dictionary:**"
   ]
  },
  {
   "cell_type": "code",
   "execution_count": 6,
   "metadata": {},
   "outputs": [],
   "source": [
    "word_freq = {'love': 25, 'conversation': 1, 'every': 6, \"we're\": 1, 'plate': 1, 'sour': 1, 'jukebox': 1, 'now': 11, 'taxi': 1, 'fast': 1, 'bag': 1, 'man': 1, 'push': 3, 'baby': 14, 'going': 1, 'you': 16, \"don't\": 2, 'one': 1, 'mind': 2, 'backseat': 1, 'friends': 1, 'then': 3, 'know': 2}"
   ]
  },
  {
   "cell_type": "markdown",
   "metadata": {},
   "source": [
    "- Iterate on the items of this dictionary to print only those keys where the freqeuncy of the word is less than 3?\n",
    "- Which is the word with the highest frequency?"
   ]
  },
  {
   "cell_type": "code",
   "execution_count": 13,
   "metadata": {},
   "outputs": [
    {
     "name": "stdout",
     "output_type": "stream",
     "text": [
      "conversation 1\n",
      "we're 1\n",
      "plate 1\n",
      "sour 1\n",
      "jukebox 1\n",
      "taxi 1\n",
      "fast 1\n",
      "bag 1\n",
      "man 1\n",
      "going 1\n",
      "don't 2\n",
      "one 1\n",
      "mind 2\n",
      "backseat 1\n",
      "friends 1\n",
      "know 2\n"
     ]
    }
   ],
   "source": [
    "for key in word_freq.keys():\n",
    "    if word_freq[key]<3:\n",
    "        print(key, word_freq[key])"
   ]
  },
  {
   "cell_type": "code",
   "execution_count": 10,
   "metadata": {},
   "outputs": [
    {
     "data": {
      "text/plain": [
       "25"
      ]
     },
     "execution_count": 10,
     "metadata": {},
     "output_type": "execute_result"
    }
   ],
   "source": [
    "word_freq['love']"
   ]
  },
  {
   "cell_type": "code",
   "execution_count": 1,
   "metadata": {},
   "outputs": [],
   "source": [
    "# no idea, spent too much time on it alreary"
   ]
  },
  {
   "cell_type": "code",
   "execution_count": 28,
   "metadata": {},
   "outputs": [
    {
     "data": {
      "text/plain": [
       "'you'"
      ]
     },
     "execution_count": 28,
     "metadata": {},
     "output_type": "execute_result"
    }
   ],
   "source": [
    "max(word_freq)"
   ]
  },
  {
   "cell_type": "markdown",
   "metadata": {},
   "source": [
    "## While Loops  "
   ]
  },
  {
   "cell_type": "markdown",
   "metadata": {},
   "source": [
    "While loop executes a block of statement until the condition is true. As soon as the condition is false, flow of the code jumps out of the while loop and starts executing the code after the while loop. "
   ]
  },
  {
   "cell_type": "code",
   "execution_count": 2,
   "metadata": {},
   "outputs": [
    {
     "name": "stdout",
     "output_type": "stream",
     "text": [
      "Hello\n",
      "0\n",
      "Hello\n",
      "1\n",
      "Hello\n",
      "2\n",
      "Hello\n",
      "3\n",
      "Hello\n",
      "4\n",
      "Hello\n",
      "5\n",
      "Hello\n",
      "6\n",
      "Hello\n",
      "7\n",
      "Hello\n",
      "8\n",
      "Hello\n",
      "9\n"
     ]
    }
   ],
   "source": [
    "i = 0 \n",
    "while i<10:\n",
    "    print(\"Hello\")\n",
    "    print(i)\n",
    "    i = i+1 # we update the value of i depending on how many times or how we want the while loop to work "
   ]
  },
  {
   "cell_type": "markdown",
   "metadata": {},
   "source": [
    "We initialize a variable `i` that we put a condition on in the WHILE statement. We use it to control the execution of the iterations"
   ]
  },
  {
   "cell_type": "code",
   "execution_count": null,
   "metadata": {},
   "outputs": [],
   "source": []
  },
  {
   "cell_type": "code",
   "execution_count": 3,
   "metadata": {},
   "outputs": [
    {
     "name": "stdout",
     "output_type": "stream",
     "text": [
      "Hello\n",
      "0\n",
      "Hello\n",
      "3\n",
      "Hello\n",
      "6\n",
      "Hello\n",
      "9\n"
     ]
    }
   ],
   "source": [
    "i = 0\n",
    "while i<10:\n",
    "    print(\"Hello\")\n",
    "    print(i)\n",
    "    i = i + 3 # we update the value of i depending on how many times or how we want the while loop to work "
   ]
  },
  {
   "cell_type": "code",
   "execution_count": null,
   "metadata": {},
   "outputs": [],
   "source": []
  },
  {
   "cell_type": "code",
   "execution_count": 4,
   "metadata": {},
   "outputs": [
    {
     "name": "stdout",
     "output_type": "stream",
     "text": [
      "I\n",
      "R\n",
      "O\n",
      "N\n",
      "H\n",
      "A\n",
      "C\n",
      "K\n"
     ]
    }
   ],
   "source": [
    "word = \"IRONHACK\"\n",
    "i = 0\n",
    "while i < len(word):\n",
    "    print(word[i])\n",
    "    i=i+1"
   ]
  },
  {
   "cell_type": "code",
   "execution_count": null,
   "metadata": {},
   "outputs": [],
   "source": []
  },
  {
   "cell_type": "markdown",
   "metadata": {},
   "source": [
    "**Please go through a guided example to understand how the while loop can be used to solve a problem**"
   ]
  },
  {
   "cell_type": "markdown",
   "metadata": {},
   "source": [
    "**Also please pay attention to this problem, we will ask you a similar question in the assessment as well !!**"
   ]
  },
  {
   "cell_type": "markdown",
   "metadata": {},
   "source": [
    "### Snail and well\n",
    "\n",
    "A snail falls at the bottom of a 125 cm well. Each day the snail rises 30 cm. But at night, while sleeping, slides 20 cm because the walls are wet. How many days does it take to escape from the well?"
   ]
  },
  {
   "cell_type": "code",
   "execution_count": 5,
   "metadata": {},
   "outputs": [
    {
     "name": "stdout",
     "output_type": "stream",
     "text": [
      "Days = 11\n"
     ]
    }
   ],
   "source": [
    "# Assign problem data to variables with representative names\n",
    "# well height, daily advance, night retreat, accumulated distance\n",
    "well_height = 125\n",
    "daily_climb = 30\n",
    "nightly_fall = 20\n",
    "total_distance = 0\n",
    "\n",
    "# Assign 0 to the variable that represents the solution\n",
    "total_days = 0\n",
    "\n",
    "# Assume we begin during the day, we use this boolean to determine if it is day or night\n",
    "is_day = True\n",
    "\n",
    "# Write the code that solves the problem\n",
    "while (total_distance < well_height):\n",
    "    if (is_day):\n",
    "        total_distance += daily_climb\n",
    "        total_days += 1\n",
    "        is_day = False\n",
    "    else:\n",
    "        total_distance -= nightly_fall\n",
    "        is_day = True\n",
    "        # Assume we only add days at end of night\n",
    "        \n",
    "    \n",
    "# Print the result with print('Days =', days)\n",
    "print('Days =', total_days)"
   ]
  },
  {
   "cell_type": "code",
   "execution_count": null,
   "metadata": {},
   "outputs": [],
   "source": []
  }
 ],
 "metadata": {
  "kernelspec": {
   "display_name": "Python 3",
   "language": "python",
   "name": "python3"
  },
  "language_info": {
   "codemirror_mode": {
    "name": "ipython",
    "version": 3
   },
   "file_extension": ".py",
   "mimetype": "text/x-python",
   "name": "python",
   "nbconvert_exporter": "python",
   "pygments_lexer": "ipython3",
   "version": "3.8.5"
  }
 },
 "nbformat": 4,
 "nbformat_minor": 2
}
